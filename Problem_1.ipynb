{
 "cells": [
  {
   "cell_type": "markdown",
   "metadata": {},
   "source": [
    "# Introduction"
   ]
  },
  {
   "cell_type": "code",
   "execution_count": null,
   "metadata": {},
   "outputs": [],
   "source": [
    "#Say \"Hello, World!\" With Python\n",
    "if __name__ == '__main__':\n",
    "    print(\"Hello, World!\")"
   ]
  },
  {
   "cell_type": "code",
   "execution_count": null,
   "metadata": {},
   "outputs": [],
   "source": [
    "#Python If-Else\n",
    "import math\n",
    "import os\n",
    "import random\n",
    "import re\n",
    "import sys\n",
    "\n",
    "\n",
    "\n",
    "if __name__ == '__main__':\n",
    "    n = int(input().strip())\n",
    "    if n%2 != 0:\n",
    "        print('Weird')\n",
    "    elif n%2 == 0 and n >= 2 and n <=5:\n",
    "        print('Not Weird')\n",
    "    elif n%2 == 0 and n >= 6 and n <=20:\n",
    "        print('Weird')\n",
    "    elif n%2 == 0 and n > 20:\n",
    "        print('Not Weird')"
   ]
  },
  {
   "cell_type": "code",
   "execution_count": null,
   "metadata": {},
   "outputs": [],
   "source": [
    "#Arithmetic Operators\n",
    "if __name__ == '__main__':\n",
    "    a = int(input())\n",
    "    b = int(input())\n",
    "    print(a + b)\n",
    "    print(a-b)\n",
    "    print(a*b)"
   ]
  },
  {
   "cell_type": "code",
   "execution_count": null,
   "metadata": {},
   "outputs": [],
   "source": [
    "#Python: Division\n",
    "if __name__ == '__main__':\n",
    "    a = int(input())\n",
    "    b = int(input())\n",
    "    print(a//b)\n",
    "    print(a/b)"
   ]
  },
  {
   "cell_type": "code",
   "execution_count": null,
   "metadata": {},
   "outputs": [],
   "source": [
    "#Loops\n",
    "if __name__ == '__main__':\n",
    "    n = int(input())\n",
    "    for i in range(n):\n",
    "        print(i**2)\n"
   ]
  },
  {
   "cell_type": "code",
   "execution_count": null,
   "metadata": {},
   "outputs": [],
   "source": [
    "#Write a function\n",
    "def is_leap(year):\n",
    "    leap = False\n",
    "    if year % 4 == 0 and year % 100 != 0:\n",
    "        leap = True\n",
    "    elif year % 4 == 0 and year % 100 == 0:\n",
    "        if year % 400 == 0:\n",
    "            leap = True\n",
    "    return leap"
   ]
  },
  {
   "cell_type": "code",
   "execution_count": null,
   "metadata": {},
   "outputs": [],
   "source": [
    "#Print function\n",
    "if __name__ == '__main__':\n",
    "    n = int(input())\n",
    "    for i in range(1, n+1):\n",
    "        print(i, end='')\n"
   ]
  },
  {
   "cell_type": "markdown",
   "metadata": {},
   "source": [
    "# Data types"
   ]
  },
  {
   "cell_type": "code",
   "execution_count": null,
   "metadata": {},
   "outputs": [],
   "source": [
    "#List Comprehensions\n",
    "if __name__ == '__main__':\n",
    "    x = int(input())\n",
    "    y = int(input())\n",
    "    z = int(input())\n",
    "    n = int(input())\n",
    "    lista1 = [[i, j, k] for i in range(x + 1) for j in range(y + 1) for k in range(z + 1) if sum([i, j, k]) != n]\n",
    "            \n",
    "    print(lista1)"
   ]
  },
  {
   "cell_type": "code",
   "execution_count": null,
   "metadata": {},
   "outputs": [],
   "source": [
    "#Find the Runner-Up Score!\n",
    "if __name__ == '__main__':\n",
    "    n = int(input())\n",
    "    arr = map(int, input().split())\n",
    "    my_list = list(arr)\n",
    "    my_list = list(set(my_list))\n",
    "    my_list.sort()\n",
    "    print(my_list[-2])\n"
   ]
  },
  {
   "cell_type": "code",
   "execution_count": null,
   "metadata": {},
   "outputs": [],
   "source": [
    "#Nested Lists\n",
    "if __name__ == '__main__':\n",
    "    list_out = []\n",
    "    scores = []\n",
    "    for _ in range(int(input())):\n",
    "        name = input()\n",
    "        score = float(input())\n",
    "        scores.append(score)\n",
    "        list_out.append([name, score])\n",
    "        \n",
    "    scores.sort()\n",
    "    scores = list(set(scores))\n",
    "    \n",
    "    second_min = scores[1]\n",
    "\n",
    "    d = {row[0]: row[1] for row in list_out}\n",
    "    \n",
    "    f = sorted([key for key, value in d.items() if value == second_min])\n",
    "    for i in f:\n",
    "        print(i)"
   ]
  },
  {
   "cell_type": "code",
   "execution_count": null,
   "metadata": {},
   "outputs": [],
   "source": [
    "#Finding the percentage\n",
    "if __name__ == '__main__':\n",
    "    n = int(input())\n",
    "    student_marks = {}\n",
    "    for _ in range(n):\n",
    "        name, *line = input().split()\n",
    "        scores = list(map(float, line))\n",
    "        student_marks[name] = scores\n",
    "    query_name = input()\n",
    "    num = float(sum(student_marks[query_name])/3)\n",
    "    print('%.2f' % num)\n"
   ]
  },
  {
   "cell_type": "code",
   "execution_count": null,
   "metadata": {},
   "outputs": [],
   "source": [
    "#Lists\n",
    "if __name__ == '__main__':\n",
    "    N = int(input())\n",
    "    lista = []\n",
    "    for i in range(N):\n",
    "        command = input().split()\n",
    "        if command[0] == 'insert':\n",
    "            lista.insert(int(command[1]), int(command[2]))\n",
    "        elif command[0] == 'print':\n",
    "            print(lista)\n",
    "        elif command[0] == 'remove':\n",
    "            lista.remove(int(command[1]))\n",
    "        elif command[0] == 'append':\n",
    "            lista.append(int(command[1]))\n",
    "        elif command[0] == 'sort':\n",
    "            lista.sort()\n",
    "        elif command[0] == 'pop':\n",
    "            lista.pop()\n",
    "        elif command[0] == 'reverse':\n",
    "            lista = lista[::-1]"
   ]
  },
  {
   "cell_type": "code",
   "execution_count": null,
   "metadata": {},
   "outputs": [],
   "source": [
    "#Tuples\n",
    "if __name__ == '__main__':\n",
    "    n = int(input())\n",
    "    integer_list = map(int, input().split())\n",
    "    t = tuple(integer_list)\n",
    "    print(hash(t))"
   ]
  },
  {
   "cell_type": "markdown",
   "metadata": {},
   "source": [
    "# Strings"
   ]
  },
  {
   "cell_type": "code",
   "execution_count": null,
   "metadata": {},
   "outputs": [],
   "source": [
    "#What's Your Name?\n",
    "def print_full_name(first, last):\n",
    "    print(\"Hello %s %s! You just delved into python.\" %(first, last))"
   ]
  },
  {
   "cell_type": "code",
   "execution_count": null,
   "metadata": {},
   "outputs": [],
   "source": [
    "#Mutations\n",
    "def mutate_string(string, position, character):\n",
    "    l = list(string)\n",
    "    l[position] = character\n",
    "    return ''.join(l)"
   ]
  },
  {
   "cell_type": "code",
   "execution_count": null,
   "metadata": {},
   "outputs": [],
   "source": [
    "#Find a string\n",
    "def count_substring(string, sub_string):\n",
    "    tot = 0\n",
    "    sub_l = len(sub_string)\n",
    "    for i in range(len(string) - 2):\n",
    "        if sub_string == string[i:i+sub_l]:\n",
    "            tot += 1\n",
    "    return tot"
   ]
  },
  {
   "cell_type": "code",
   "execution_count": null,
   "metadata": {},
   "outputs": [],
   "source": [
    "#String Validators\n",
    "if __name__ == '__main__':\n",
    "    s = input()\n",
    "    if any(c.isalnum() for c in s):\n",
    "        print('True')\n",
    "    else:\n",
    "        print('False') \n",
    "\n",
    "    if any(c.isalpha() for c in s):\n",
    "        print('True')\n",
    "    else:\n",
    "        print('False')\n",
    "        \n",
    "    if any(c.isdigit() for c in s):\n",
    "        print('True')\n",
    "    else:\n",
    "        print('False')\n",
    "        \n",
    "    if any(c.islower() for c in s):\n",
    "        print('True')\n",
    "    else:\n",
    "        print('False')\n",
    "            \n",
    "    if any(c.isupper() for c in s):\n",
    "        print('True')\n",
    "    else:\n",
    "        print('False')"
   ]
  },
  {
   "cell_type": "code",
   "execution_count": null,
   "metadata": {},
   "outputs": [],
   "source": [
    "#Text Alignment\n",
    "thickness = int(input()) #This must be an odd number\n",
    "c = 'H'\n",
    "\n",
    "#Top Cone\n",
    "for i in range(thickness):\n",
    "    print((c*i).rjust(thickness-1)+c+(c*i).ljust(thickness-1))\n",
    "\n",
    "#Top Pillars\n",
    "for i in range(thickness+1):\n",
    "    print((c*thickness).center(thickness*2)+(c*thickness).center(thickness*6))\n",
    "\n",
    "#Middle Belt\n",
    "for i in range((thickness+1)//2):\n",
    "    print((c*thickness*5).center(thickness*6))    \n",
    "\n",
    "#Bottom Pillars\n",
    "for i in range(thickness+1):\n",
    "    print((c*thickness).center(thickness*2)+(c*thickness).center(thickness*6))    \n",
    "\n",
    "#Bottom Cone\n",
    "for i in range(thickness):\n",
    "    print(((c*(thickness-i-1)).rjust(thickness)+c+(c*(thickness-i-1)).ljust(thickness)).rjust(thickness*6))\n"
   ]
  },
  {
   "cell_type": "code",
   "execution_count": null,
   "metadata": {},
   "outputs": [],
   "source": [
    "#Text Wrap\n",
    "def wrap(string, max_width):\n",
    "    a = textwrap.fill(string, max_width)\n",
    "    return a"
   ]
  },
  {
   "cell_type": "code",
   "execution_count": null,
   "metadata": {},
   "outputs": [],
   "source": [
    "# Designer Door Mat\n",
    "N, M = input().split()\n",
    "n = int(N)\n",
    "m = int(M)\n",
    "sl = 1\n",
    "\n",
    "for i in range(n):\n",
    "    if i < n // 2:\n",
    "        print(('.|.'*(sl)).center(m, '-'))\n",
    "        sl += 2\n",
    "    elif i == n//2 :\n",
    "        print('WELCOME'.center(m, '-'))\n",
    "        sl -= 2\n",
    "    else:\n",
    "        print(('.|.'*(sl)).center(m, '-'))\n",
    "        sl -= 2"
   ]
  },
  {
   "cell_type": "code",
   "execution_count": null,
   "metadata": {},
   "outputs": [],
   "source": [
    "#String Formatting\n",
    "def print_formatted(number):\n",
    "    width = len(bin(number)) - 2\n",
    "    for i in range(1, number + 1):\n",
    "        print(str(i).rjust(width), \n",
    "                oct(i)[2:].rjust(width),\n",
    "                hex(i)[2:].upper().rjust(width), \n",
    "                bin(i)[2:].rjust(width))\n",
    "if __name__ == '__main__':\n",
    "    n = int(input())\n",
    "    print_formatted(n)"
   ]
  },
  {
   "cell_type": "code",
   "execution_count": null,
   "metadata": {},
   "outputs": [],
   "source": [
    "#Alphabet Rangoli\n",
    "def print_rangoli(size):\n",
    "    width = (size*2) - 1 + (size - 1)*2\n",
    "    letters = 'abcdefghijklmnopqrstuvwxyz'\n",
    "    \n",
    "    for i in range(size):\n",
    "        ltrs = letters[size - i -1 :size]\n",
    "        line = \"-\".join(ltrs[1:][::-1] + ltrs)        \n",
    "        print(line.center(width, \"-\"))\n",
    "    for i in range(size - 2, -1, -1):\n",
    "        ltrs = letters[size - i -1 :size]\n",
    "        line = \"-\".join(ltrs[1:][::-1] + ltrs)        \n",
    "        print(line.center(width, \"-\"))\n",
    "\n",
    "if __name__ == '__main__':\n",
    "    n = int(input())\n",
    "    print_rangoli(n)"
   ]
  },
  {
   "cell_type": "code",
   "execution_count": null,
   "metadata": {},
   "outputs": [],
   "source": [
    "#Capitalize!\n",
    "def solve(s):\n",
    "    name = s.split(\" \")\n",
    "    l = [word.capitalize() for word in name]\n",
    "    \n",
    "    return \" \".join(l)\n",
    "\n",
    "if __name__ == '__main__':\n",
    "    fptr = open(os.environ['OUTPUT_PATH'], 'w')\n",
    "\n",
    "    s = input()\n",
    "\n",
    "    result = solve(s)\n",
    "\n",
    "    fptr.write(result + '\\n')\n",
    "\n",
    "    fptr.close()"
   ]
  },
  {
   "cell_type": "code",
   "execution_count": null,
   "metadata": {},
   "outputs": [],
   "source": [
    "#The Minion Game\n",
    "def minion_game(string):\n",
    "    vowels = \"AEIOU\"\n",
    "    # Original solution\n",
    "    #k = 0\n",
    "    #s = 0\n",
    "    #\n",
    "    #kev = []\n",
    "    #stu = []\n",
    "    #\n",
    "    #for i in range(len(string)):\n",
    "    #    if string[i] in vowels:\n",
    "    #        if string[i] not in kev:\n",
    "    #            kev.append(i)\n",
    "    #        else:\n",
    "    #            k += 1\n",
    "    #    else:\n",
    "    #        if string[i] not in stu:\n",
    "    #            stu.append(i)\n",
    "    #        else:\n",
    "    #            s += 1\n",
    "    #                       \n",
    "    #for j in kev:\n",
    "    #    k += len(string) - int(j)\n",
    "    #for u in stu:\n",
    "    #    s += len(string) - int(u)\n",
    "    #\n",
    "    #if k > s:\n",
    "    #    print(\"Kevin\", k)\n",
    "    #elif s > k:\n",
    "    #    print(\"Stuart\", s)\n",
    "    #else:\n",
    "    #    print(\"Draw\")\n",
    "    \n",
    "    # However since the solution above failed the last three tests \n",
    "    # beacause it  exceeded the time limit so I looked at the discussion \n",
    "    # and came up with the following:\n",
    "    \n",
    "    k = 0\n",
    "    s = 0\n",
    "    \n",
    "    for i in range(len(string)):\n",
    "        if string[i] in vowels:\n",
    "            k += len(string) - int(i)\n",
    "        else:\n",
    "            s += len(string) - int(i)\n",
    "               \n",
    "    if k > s:\n",
    "        print(\"Kevin\", k)\n",
    "    elif s > k:\n",
    "        print(\"Stuart\", s)\n",
    "    else:\n",
    "        print(\"Draw\")\n",
    "        \n",
    "if __name__ == '__main__':\n",
    "    s = input()\n",
    "    minion_game(s)"
   ]
  },
  {
   "cell_type": "code",
   "execution_count": null,
   "metadata": {},
   "outputs": [],
   "source": [
    "#Merge the Tools!\n",
    "def merge_the_tools(string, k):\n",
    "    n = len(string)\n",
    "    ls = [string[i:i+k] for i in range(0, n-k+1, k)]\n",
    "    \n",
    "    result = []\n",
    "    \n",
    "    for s in ls:\n",
    "        unique = \"\"\n",
    "        for char in s:\n",
    "            if char not in unique:\n",
    "                unique += char\n",
    "        result.append(unique)\n",
    "    \n",
    "    for res in result:\n",
    "        print(res)"
   ]
  },
  {
   "cell_type": "code",
   "execution_count": null,
   "metadata": {},
   "outputs": [],
   "source": [
    "#sWAP cASE\n",
    "def swap_case(s):\n",
    "    s1 = ''\n",
    "    for i, c in enumerate(s):\n",
    "        if c.islower():\n",
    "            s1 += c.upper()\n",
    "        else:\n",
    "            s1 += c.lower()\n",
    "    return s1\n",
    "\n",
    "if __name__ == '__main__':\n",
    "    s = input()\n",
    "    result = swap_case(s)\n",
    "    print(result)"
   ]
  },
  {
   "cell_type": "code",
   "execution_count": null,
   "metadata": {},
   "outputs": [],
   "source": [
    "#String Split and Join\n",
    "def split_and_join(line):\n",
    "    a = line.split(\" \")\n",
    "    return \"-\".join(a)\n",
    "    \n",
    "\n",
    "if __name__ == '__main__':\n",
    "    line = input()\n",
    "    result = split_and_join(line)\n",
    "    print(result)"
   ]
  },
  {
   "cell_type": "markdown",
   "metadata": {},
   "source": [
    "# Sets"
   ]
  },
  {
   "cell_type": "code",
   "execution_count": null,
   "metadata": {},
   "outputs": [],
   "source": [
    "#Introduction to sets\n",
    "def average(array):\n",
    "    return round(sum(set(array))/len(set(array)), 3)"
   ]
  },
  {
   "cell_type": "code",
   "execution_count": null,
   "metadata": {},
   "outputs": [],
   "source": [
    "#No Idea!\n",
    "n, m = input().split()\n",
    "array = list(input().split())\n",
    "A = set(input().split())\n",
    "B = set(input().split())\n",
    "\n",
    "happiness = 0\n",
    "\n",
    "for i in array:\n",
    "    if i in A:\n",
    "        happiness += 1\n",
    "    if i in B:\n",
    "        happiness -= 1\n",
    "print(happiness)"
   ]
  },
  {
   "cell_type": "code",
   "execution_count": null,
   "metadata": {},
   "outputs": [],
   "source": [
    "#Symmetric Difference\n",
    "M = int(input())\n",
    "a = set(map(int, input().split()))\n",
    "N = int(input())\n",
    "b = set(map(int, input().split()))\n",
    "diff_a = a.difference(b)\n",
    "diff_b = b.difference(a)\n",
    "\n",
    "U = diff_a.union(diff_b)\n",
    "for i in sorted(U):\n",
    "    print(i)"
   ]
  },
  {
   "cell_type": "code",
   "execution_count": null,
   "metadata": {},
   "outputs": [],
   "source": [
    "#Set.add()\n",
    "N = int(input())\n",
    "countries = set()\n",
    "for i in range(N):\n",
    "    countries.add(input())\n",
    "print(len(countries))\n"
   ]
  },
  {
   "cell_type": "code",
   "execution_count": null,
   "metadata": {},
   "outputs": [],
   "source": [
    "#Set .discard(), .remove() & .pop()\n",
    "n = int(input())\n",
    "s = set(map(int, input().split()))\n",
    "N = int(input())\n",
    "for i in range(N):\n",
    "    command = list(input().split())\n",
    "    if command[0] == 'remove':\n",
    "        s.remove(int(command[1]))\n",
    "    elif command[0] == 'discard':\n",
    "        s.discard(int(command[1]))\n",
    "    else:\n",
    "        s.pop()\n",
    "    \n",
    "print(sum(s))"
   ]
  },
  {
   "cell_type": "code",
   "execution_count": null,
   "metadata": {},
   "outputs": [],
   "source": [
    "#Set .union() Operation\n",
    "n = int(input())\n",
    "en = set(input().split())\n",
    "\n",
    "b = int(input())\n",
    "fr = set(input().split())\n",
    "\n",
    "tot = en | fr\n",
    "print(len(tot))"
   ]
  },
  {
   "cell_type": "code",
   "execution_count": null,
   "metadata": {},
   "outputs": [],
   "source": [
    "#Set .intersection() Operation\n",
    "n = int(input())\n",
    "en = set(input().split())\n",
    "b = int(input())\n",
    "fr = set(input().split())\n",
    "\n",
    "tot = en & fr\n",
    "print(len(tot))"
   ]
  },
  {
   "cell_type": "code",
   "execution_count": null,
   "metadata": {},
   "outputs": [],
   "source": [
    "#Set .difference() Operation\n",
    "n = int(input())\n",
    "en = set(input().split())\n",
    "b = int(input())\n",
    "fr = set(input().split())\n",
    "\n",
    "print(len(en.difference(fr)))"
   ]
  },
  {
   "cell_type": "code",
   "execution_count": null,
   "metadata": {},
   "outputs": [],
   "source": [
    "#Set .symmetric_difference() Operation\n",
    "n = input()\n",
    "en = set(input().split())\n",
    "f = input()\n",
    "fr = set(input().split())\n",
    "\n",
    "print(len(en.symmetric_difference(fr)))"
   ]
  },
  {
   "cell_type": "code",
   "execution_count": null,
   "metadata": {},
   "outputs": [],
   "source": [
    "#Set Mutations\n",
    "a = input()\n",
    "A = set(map(int, input().split()))\n",
    "N = int(input())\n",
    "for i in range(N):\n",
    "    command = list(input().split())\n",
    "    s = set(map(int, input().split()))\n",
    "    \n",
    "    if command[0] == 'intersection_update':\n",
    "        A.intersection_update(s)\n",
    "    elif command[0] == 'update':\n",
    "        A.update(s)\n",
    "    elif command[0] == 'symmetric_difference_update':\n",
    "        A.symmetric_difference_update(s)\n",
    "    elif command[0] == 'difference_update':\n",
    "        A.difference_update(s)\n",
    "    \n",
    "print(sum(A))"
   ]
  },
  {
   "cell_type": "code",
   "execution_count": null,
   "metadata": {},
   "outputs": [],
   "source": [
    "#The Captain's Room\n",
    "K = int(input())\n",
    "guests = list(input().split())\n",
    "\n",
    "unique = set()\n",
    "dupl = set()\n",
    "for i in guests:\n",
    "    if i not in unique:\n",
    "        unique.add(i)\n",
    "    else:\n",
    "        dupl.add(i)\n",
    "\n",
    "ans = unique.difference(dupl)\n",
    "print(ans.pop())"
   ]
  },
  {
   "cell_type": "code",
   "execution_count": null,
   "metadata": {},
   "outputs": [],
   "source": [
    "#Check Subset\n",
    "T = int(input())\n",
    "for i in range(T):\n",
    "    nA = input()\n",
    "    A = set(input().split())\n",
    "    nB = input()\n",
    "    B = set(input().split())\n",
    "    \n",
    "    if A.issubset(B):\n",
    "        print(True)\n",
    "    else:\n",
    "        print(False)"
   ]
  },
  {
   "cell_type": "code",
   "execution_count": null,
   "metadata": {},
   "outputs": [],
   "source": [
    "#Check Strict Superset\n",
    "A = set(input().split())\n",
    "n = int(input())\n",
    "\n",
    "j = 0\n",
    "for i in range(n):\n",
    "    B = set(input().split())\n",
    "    if A.issuperset(B) and A != B:\n",
    "        j += 1\n",
    "    \n",
    "if j == n:\n",
    "    print(True)\n",
    "else:\n",
    "    print(False)"
   ]
  },
  {
   "cell_type": "markdown",
   "metadata": {},
   "source": [
    "# Collections"
   ]
  },
  {
   "cell_type": "code",
   "execution_count": null,
   "metadata": {},
   "outputs": [],
   "source": [
    "#collections.Counter()\n",
    "from collections import Counter\n",
    "nX = int(input())\n",
    "X = list(map(int, input().split()))\n",
    "d = Counter(X)\n",
    "\n",
    "total = 0\n",
    "\n",
    "N = int(input())\n",
    "for i in range(N):\n",
    "    com = input().split()\n",
    "    size = int(com[0])\n",
    "    price = int(com[1])\n",
    "    \n",
    "    if size in d and d[size] > 0:\n",
    "        d[size] -= 1\n",
    "        total += price\n",
    "    \n",
    "    \n",
    "print(total)"
   ]
  },
  {
   "cell_type": "code",
   "execution_count": null,
   "metadata": {},
   "outputs": [],
   "source": [
    "#DefaultDict Tutorial\n",
    "from collections import defaultdict\n",
    "\n",
    "n, m = map(int, input().split())\n",
    "\n",
    "A = defaultdict(list)\n",
    "\n",
    "for i in range(1, n+1):\n",
    "    A[input()].append(str(i))\n",
    "for i in range(1, m+1):\n",
    "    lett = input()\n",
    "    if lett in A:\n",
    "        print(\" \".join(A[lett]))\n",
    "    else:\n",
    "        print(-1)"
   ]
  },
  {
   "cell_type": "code",
   "execution_count": null,
   "metadata": {},
   "outputs": [],
   "source": [
    "#Collections.namedtuple()\n",
    "from collections import namedtuple\n",
    "N = int(input())\n",
    "Student = namedtuple('Student', input().split())\n",
    "marks = 0\n",
    "for i in range(N):\n",
    "    x = Student(*input().split())\n",
    "    marks += int(x.MARKS)\n",
    "print(marks/N)"
   ]
  },
  {
   "cell_type": "code",
   "execution_count": null,
   "metadata": {},
   "outputs": [],
   "source": [
    "#Collections.OrderedDict()\n",
    "from collections import OrderedDict\n",
    "\n",
    "N = int(input())\n",
    "d = OrderedDict()\n",
    "\n",
    "for i in range(N):\n",
    "    com = input().split()\n",
    "    food = \" \".join(com[:-1])\n",
    "    if food not in d:\n",
    "        d[food] = int(com[-1])\n",
    "    else:\n",
    "        d[food] += int(com[-1])\n",
    "    \n",
    "for i in d:\n",
    "    print(i, d[i])"
   ]
  },
  {
   "cell_type": "code",
   "execution_count": null,
   "metadata": {},
   "outputs": [],
   "source": [
    "#Word Order\n",
    "from collections import OrderedDict\n",
    "\n",
    "n = int(input())\n",
    "\n",
    "d = OrderedDict()\n",
    "\n",
    "for i in range(n):\n",
    "    word = input()\n",
    "    if word in d:\n",
    "        d[word] += 1\n",
    "    else:\n",
    "        d[word] = 1\n",
    "\n",
    "print(len(d))\n",
    "vals = \"\"\n",
    "for i in d.values():\n",
    "    vals += (str(i) + \" \")\n",
    "print(vals)"
   ]
  },
  {
   "cell_type": "code",
   "execution_count": null,
   "metadata": {},
   "outputs": [],
   "source": [
    "#Collections.deque()\n",
    "from collections import deque\n",
    "\n",
    "N = int(input())\n",
    "\n",
    "d = deque()\n",
    "for i in range(N):\n",
    "    command = input().split()\n",
    "    if command[0] == 'append':\n",
    "        d.append(command[1])\n",
    "    elif command[0] == 'appendleft':\n",
    "        d.appendleft(command[1])\n",
    "    elif command[0] == 'pop':\n",
    "        d.pop()\n",
    "    elif command[0] == 'popleft':\n",
    "        d.popleft()\n",
    "\n",
    "vals = \"\"\n",
    "for i in d:\n",
    "    vals += i + \" \"\n",
    "print(vals)"
   ]
  },
  {
   "cell_type": "code",
   "execution_count": null,
   "metadata": {},
   "outputs": [],
   "source": [
    "#Company Logo\n",
    "import math\n",
    "import os\n",
    "import random\n",
    "import re\n",
    "import sys\n",
    "from collections import Counter\n",
    "\n",
    "if __name__ == '__main__':\n",
    "    s = list(input())\n",
    "    counts = Counter(s)\n",
    "    occ = counts.most_common(len(s))\n",
    "    sor = sorted(occ, key= lambda x: (-x[1], x[0]))\n",
    "    for i in range(3):\n",
    "        print(sor[i][0], sor[i][1])"
   ]
  },
  {
   "cell_type": "code",
   "execution_count": null,
   "metadata": {},
   "outputs": [],
   "source": [
    "#Piling Up!\n",
    "from collections import deque\n",
    "T = int(input())\n",
    "outcomes = []\n",
    "for i in range(T):\n",
    "    n = int(input())\n",
    "    cubes = deque(map(int, input().split()))\n",
    "    \n",
    "    current = 999999999999999\n",
    "    \n",
    "    for i in range(len(cubes)+1):\n",
    "        if len(cubes) == 0:\n",
    "            outcomes.append('Yes')\n",
    "        elif cubes[0] >= cubes[-1] and cubes[0] <= current:\n",
    "            current = int(cubes[0])\n",
    "            cubes.popleft()\n",
    "        elif cubes[-1] > cubes[0] and cubes[-1] <= current:\n",
    "            current = int(cubes[-1])\n",
    "            cubes.pop()\n",
    "        elif cubes != [] and i == len(cubes)+1:\n",
    "            outcomes.append('No')\n",
    "            \n",
    "for i in outcomes:\n",
    "    print(i)"
   ]
  },
  {
   "cell_type": "markdown",
   "metadata": {},
   "source": [
    "# Date and Time"
   ]
  },
  {
   "cell_type": "code",
   "execution_count": null,
   "metadata": {},
   "outputs": [],
   "source": [
    "#Calendar Module\n",
    "import calendar\n",
    "\n",
    "date = input().split()\n",
    "day = calendar.weekday(year=int(date[2]), month=int(date[0]), day=int(date[1]))\n",
    "print(calendar.day_name[day].upper())"
   ]
  },
  {
   "cell_type": "code",
   "execution_count": null,
   "metadata": {},
   "outputs": [],
   "source": [
    "#Time Delta\n",
    "import math\n",
    "import os\n",
    "import random\n",
    "import re\n",
    "import sys\n",
    "\n",
    "from datetime import datetime\n",
    "\n",
    "# Complete the time_delta function below.\n",
    "def time_delta(t1, t2):\n",
    "    format_t = \"%a %d %b %Y %H:%M:%S %z\"\n",
    "    d1 = datetime.strptime(t1, format_t)\n",
    "    d2 = datetime.strptime(t2, format_t)\n",
    "    delta = abs(int((d1 - d2).total_seconds()))\n",
    "    return str(delta)\n",
    "\n",
    "if __name__ == '__main__':\n",
    "    fptr = open(os.environ['OUTPUT_PATH'], 'w')\n",
    "\n",
    "    t = int(input())\n",
    "\n",
    "    for t_itr in range(t):\n",
    "        t1 = input()\n",
    "\n",
    "        t2 = input()\n",
    "\n",
    "        delta = time_delta(t1, t2)\n",
    "\n",
    "        fptr.write(delta + '\\n')\n",
    "\n",
    "    fptr.close()"
   ]
  },
  {
   "cell_type": "markdown",
   "metadata": {},
   "source": [
    "# Exceptions"
   ]
  },
  {
   "cell_type": "code",
   "execution_count": null,
   "metadata": {},
   "outputs": [],
   "source": [
    "T = int(input())\n",
    "for i in range(T):\n",
    "    a, b = input().split()\n",
    "    try:\n",
    "        print(int(a)//int(b))\n",
    "    except ZeroDivisionError as e:\n",
    "        print(\"Error Code:\", e)\n",
    "    except ValueError as f:\n",
    "        print(\"Error Code:\", f)"
   ]
  },
  {
   "cell_type": "markdown",
   "metadata": {},
   "source": [
    "# Bulit-ins"
   ]
  },
  {
   "cell_type": "code",
   "execution_count": null,
   "metadata": {},
   "outputs": [],
   "source": [
    "#Zipped!\n",
    "N, X = input().split()\n",
    "marks = []\n",
    "for i in range(int(X)):\n",
    "    marks.append(list(map(float,input().split())))\n",
    "marks1 = zip(*marks)\n",
    "for i in marks1:\n",
    "    print(sum(i)/len(i))"
   ]
  },
  {
   "cell_type": "code",
   "execution_count": null,
   "metadata": {},
   "outputs": [],
   "source": [
    "#Athlete Sort\n",
    "import math\n",
    "import os\n",
    "import random\n",
    "import re\n",
    "import sys\n",
    "\n",
    "\n",
    "\n",
    "if __name__ == '__main__':\n",
    "    nm = input().split()\n",
    "\n",
    "    n = int(nm[0])\n",
    "\n",
    "    m = int(nm[1])\n",
    "\n",
    "    arr = []\n",
    "\n",
    "    for _ in range(n):\n",
    "        arr.append(list(map(int, input().rstrip().split())))\n",
    "\n",
    "    k = int(input())\n",
    "    \n",
    "    arr.sort(key= lambda x: x[k])\n",
    "    \n",
    "    for i in arr:\n",
    "        print(\" \".join(map(str, i)))"
   ]
  },
  {
   "cell_type": "code",
   "execution_count": null,
   "metadata": {},
   "outputs": [],
   "source": [
    "#ginortS\n",
    "string = list(input())\n",
    "lower, upper, odds, evens = [], [], [], []\n",
    "\n",
    "for i in string:\n",
    "    if i.islower():\n",
    "        lower.append(i)\n",
    "    elif i.isupper():\n",
    "        upper.append(i)\n",
    "    elif i.isdigit():\n",
    "        if int(i) % 2 == 0:\n",
    "            evens.append(i)\n",
    "        else:\n",
    "            odds.append(i)\n",
    "lower.sort()\n",
    "upper.sort()\n",
    "odds.sort()\n",
    "evens.sort()\n",
    "final = lower + upper + odds + evens\n",
    "print(\"\".join(final))"
   ]
  },
  {
   "cell_type": "markdown",
   "metadata": {},
   "source": [
    "# Python functionals"
   ]
  },
  {
   "cell_type": "code",
   "execution_count": null,
   "metadata": {},
   "outputs": [],
   "source": [
    "#Map and Lambda Function\n",
    "cube = lambda x: x**3\n",
    "\n",
    "def fibonacci(n):\n",
    "    if n > 1:\n",
    "        fibs = [0, 1]\n",
    "        for i in range(2, n):\n",
    "            a = fibs[i-1] + fibs[i-2]\n",
    "            fibs.append(a)\n",
    "        return fibs\n",
    "    elif n==1:\n",
    "        return [0]\n",
    "    else:\n",
    "        return []"
   ]
  },
  {
   "cell_type": "markdown",
   "metadata": {},
   "source": [
    "# Regex and Parsing challenges"
   ]
  },
  {
   "cell_type": "code",
   "execution_count": null,
   "metadata": {},
   "outputs": [],
   "source": [
    "#Detect Floating Point Number\n",
    "import re\n",
    "\n",
    "T = int(input())\n",
    "for i in range(T):\n",
    "    s = input()\n",
    "    if re.search(\"^[+-]?[0-9]*\\.[0-9]+?$\", s):\n",
    "        print(True)\n",
    "    else:\n",
    "        print(False)"
   ]
  },
  {
   "cell_type": "code",
   "execution_count": null,
   "metadata": {},
   "outputs": [],
   "source": [
    "#Re.split()\n",
    "regex_pattern = r\"[,.]\"\t# Do not delete 'r'.\n",
    "\n",
    "import re\n",
    "print(\"\\n\".join(re.split(regex_pattern, input())))"
   ]
  },
  {
   "cell_type": "code",
   "execution_count": null,
   "metadata": {},
   "outputs": [],
   "source": [
    "#Group(), Groups() & Groupdict()\n",
    "import re\n",
    "\n",
    "S = input()\n",
    "m = re.search(r\"([a-z0-9])\\1+\", S)\n",
    "if m:\n",
    "    print(m.group(1))\n",
    "else:\n",
    "    print(-1)\n",
    "# Solved with the help of the discussion section"
   ]
  },
  {
   "cell_type": "code",
   "execution_count": null,
   "metadata": {},
   "outputs": [],
   "source": [
    "#Re.findall() & Re.finditer()\n",
    "import re\n",
    "\n",
    "S = input()\n",
    "l = re.findall(r\"(?<=[QWRTYPSDFGHJKLZXCVBNMqwrtypsdfghjklzxcvbnm])[AEIOUaeiou]{2,}(?=[QWRTYPSDFGHJKLZXCVBNMqwrtypsdfghjklzxcvbnm])\", S)\n",
    "if l:\n",
    "    for i in l:\n",
    "        print(i)\n",
    "else:\n",
    "    print(\"-1\")"
   ]
  },
  {
   "cell_type": "code",
   "execution_count": null,
   "metadata": {},
   "outputs": [],
   "source": [
    "#Re.start() & Re.end()\n",
    "import re\n",
    "\n",
    "S = input()\n",
    "k = input()\n",
    "\n",
    "lookahead = f'(?=({k}))'\n",
    "\n",
    "m = list(re.finditer(lookahead, S))\n",
    "\n",
    "if m:\n",
    "    for i in m:\n",
    "        print((i.start(1), i.end(1)-1))\n",
    "else:\n",
    "    print((-1, -1))"
   ]
  },
  {
   "cell_type": "code",
   "execution_count": null,
   "metadata": {},
   "outputs": [],
   "source": [
    "#Regex Substitution\n",
    "import re\n",
    "\n",
    "N = input()\n",
    "text = \"\"\"\"\"\"\n",
    "for _ in range(int(N)):\n",
    "    text += input() + \"\\n\"\n",
    "s1 = re.sub(r\"(?<=\\s)(&&)(?=\\s)\", \"and\", text)\n",
    "print(re.sub(r\"(?<=\\s)(\\|\\|)(?=\\s)\", \"or\", s1))\n"
   ]
  },
  {
   "cell_type": "code",
   "execution_count": null,
   "metadata": {},
   "outputs": [],
   "source": [
    "#Validating Roman Numerals\n",
    "regex_pattern = r\"^(MMM|MM|M)?(CM|D|CD)?(CCC|CC|C)?(XC|L|XL)?(XXX|XX|X)?(IX|V|IV)?(III|II|I)?$\"\n",
    "\n",
    "\n",
    "import re\n",
    "print(str(bool(re.match(regex_pattern, input()))))"
   ]
  },
  {
   "cell_type": "code",
   "execution_count": null,
   "metadata": {},
   "outputs": [],
   "source": [
    "#Validating phone numbers\n",
    "import re\n",
    "n = input()\n",
    "for i in range(int(n)):\n",
    "    val = bool(re.match(r\"^(7|8|9)([0-9]{9})$\", input()))\n",
    "    if val:\n",
    "        print('YES')\n",
    "    else:\n",
    "        print('NO')"
   ]
  },
  {
   "cell_type": "code",
   "execution_count": null,
   "metadata": {},
   "outputs": [],
   "source": [
    "#Validating and Parsing Email Addresses\n",
    "import re\n",
    "\n",
    "n = int(input())\n",
    "\n",
    "for _ in range(n):\n",
    "    name, mail = input().split()\n",
    "    pattern = r\"^<([a-zA-Z])([\\w\\.\\-]+)?(@)?([a-z]*\\.[a-z]{1,3})>$\"\n",
    "    val = bool(re.match(pattern, mail))\n",
    "    if val:\n",
    "        print(name, mail)"
   ]
  },
  {
   "cell_type": "code",
   "execution_count": null,
   "metadata": {},
   "outputs": [],
   "source": [
    "#Hex Color Code\n",
    "import re\n",
    "\n",
    "n = int(input())\n",
    "txt = \"\"\n",
    "for _ in range(n):\n",
    "    txt += input()\n",
    "    pat = r\"#([0-9a-fA-F]{3,6})(?=[;),])\"\n",
    "lista = re.findall(pat, txt)\n",
    "for i in lista:\n",
    "    print(\"#\"+ i)"
   ]
  },
  {
   "cell_type": "code",
   "execution_count": null,
   "metadata": {},
   "outputs": [],
   "source": [
    "#HTML Parser - Part 1\n",
    "from html.parser import HTMLParser\n",
    "\n",
    "class MyHTMLParser(HTMLParser):\n",
    "    def handle_starttag(self, tag, attrs):\n",
    "        print(\"Start :\", tag)\n",
    "        for a in attrs:\n",
    "            print(\"->\", a[0], \">\", a[1])\n",
    "    def handle_endtag(self, tag):\n",
    "        print(\"End   :\", tag)\n",
    "    def handle_startendtag(self, tag, attrs):\n",
    "        print(\"Empty :\", tag)\n",
    "        for a in attrs:\n",
    "            print(\"->\", a[0], \">\", a[1])\n",
    "\n",
    "parser = MyHTMLParser()\n",
    "n = int(input())\n",
    "html = \"\"\n",
    "for i in range(n):\n",
    "    html += input()\n",
    "parser.feed(html)"
   ]
  },
  {
   "cell_type": "code",
   "execution_count": null,
   "metadata": {},
   "outputs": [],
   "source": [
    "#HTML Parser - Part 2\n",
    "from html.parser import HTMLParser\n",
    "\n",
    "class MyHTMLParser(HTMLParser):\n",
    "    def handle_comment(self, data):\n",
    "        if \"\\n\" not in data:\n",
    "            print(f\">>> Single-line Comment\\n{data}\")\n",
    "        else:\n",
    "            print(f\">>> Multi-line Comment\\n{data}\")\n",
    "                \n",
    "    def handle_data(self, data):\n",
    "        if data != '\\n':\n",
    "            print(f\">>> Data\\n{data}\")\n",
    "  \n",
    "html = \"\"       \n",
    "for i in range(int(input())):\n",
    "    html += input().rstrip()\n",
    "    html += '\\n'\n",
    "    \n",
    "parser = MyHTMLParser()\n",
    "parser.feed(html)\n",
    "parser.close()\n"
   ]
  },
  {
   "cell_type": "code",
   "execution_count": null,
   "metadata": {},
   "outputs": [],
   "source": [
    "#Detect HTML Tags, Attributes and Attribute Values\n",
    "from html.parser import HTMLParser\n",
    "\n",
    "class MyHTMLParser(HTMLParser):\n",
    "    def handle_starttag(self, tag, attrs):\n",
    "        print(tag)\n",
    "        for a in attrs:\n",
    "            print(\"->\", a[0], \">\", a[1])\n",
    "\n",
    "parser = MyHTMLParser()\n",
    "n = int(input())\n",
    "html = \"\"\n",
    "for i in range(n):\n",
    "    html += input()\n",
    "parser.feed(html)"
   ]
  },
  {
   "cell_type": "code",
   "execution_count": null,
   "metadata": {},
   "outputs": [],
   "source": [
    "#Validating UID\n",
    "import re\n",
    "\n",
    "T = int(input())\n",
    "for _ in range(T):\n",
    "    uid = input()\n",
    "    valid = 'Valid'\n",
    "    if len(uid) != 10:\n",
    "        valid = 'Invalid'\n",
    "    pat1 = r\"[A-Z].*[A-Z]\"\n",
    "    if not bool(re.search(pat1, uid)):\n",
    "        valid='Invalid'\n",
    "    pat2 = r\"([0-9].*){2,}[0-9]\"\n",
    "    if not bool(re.search(pat2, uid)):\n",
    "        valid='Invalid'\n",
    "    pat3= r\"^[a-zA-Z0-9]*$\"\n",
    "    if not bool(re.match(pat3, uid)):\n",
    "        valid='Invalid'\n",
    "    pat4 = r\"(\\w).*\\1\"\n",
    "    if bool(re.search(pat4, uid)):\n",
    "        valid= \"Invalid\"\n",
    "    print(valid)\n"
   ]
  },
  {
   "cell_type": "code",
   "execution_count": null,
   "metadata": {},
   "outputs": [],
   "source": [
    "#Validating Credit Card Numbers\n",
    "import re\n",
    "\n",
    "n = int(input())\n",
    "\n",
    "for _ in range(n):\n",
    "    card = input()\n",
    "    pattern = r\"^(?!\\d*(\\d)(\\-?\\1){3,})([456][\\d]{3}\\-?[\\d]{4}\\-?[\\d]{4}\\-?[\\d]{4})$\"\n",
    "    if bool(re.search(pattern, card)):\n",
    "        print('Valid')\n",
    "    else:\n",
    "        print('Invalid')"
   ]
  },
  {
   "cell_type": "code",
   "execution_count": null,
   "metadata": {},
   "outputs": [],
   "source": [
    "#Validating Postal Codes\n",
    "regex_integer_in_range = r\"^[1-9]\\d{5}$\"\n",
    "regex_alternating_repetitive_digit_pair = r\"(?=(\\d)\\d\\1)\\d\"\n",
    "\n",
    "\n",
    "import re\n",
    "P = input()\n",
    "\n",
    "print (bool(re.match(regex_integer_in_range, P)) \n",
    "and len(re.findall(regex_alternating_repetitive_digit_pair, P)) < 2)"
   ]
  },
  {
   "cell_type": "code",
   "execution_count": null,
   "metadata": {},
   "outputs": [],
   "source": [
    "#Matrix Script\n",
    "import math\n",
    "import os\n",
    "import random\n",
    "import re\n",
    "import sys\n",
    "\n",
    "\n",
    "first_multiple_input = input().rstrip().split()\n",
    "\n",
    "n = int(first_multiple_input[0])\n",
    "\n",
    "m = int(first_multiple_input[1])\n",
    "\n",
    "matrix = []\n",
    "text = []\n",
    "\n",
    "for _ in range(n):\n",
    "    matrix_item = input()\n",
    "    matrix.append(matrix_item)\n",
    "\n",
    "text.append(zip(*matrix))\n",
    "\n",
    "text1 = \"\"\n",
    "for i in text:\n",
    "    for j in i:\n",
    "        text1 += \"\".join(j)\n",
    "\n",
    "pattern = r\"(?<=[\\d\\w])\\W+(?=[\\w\\d])\"\n",
    "print(re.sub(pattern, \" \", text1))"
   ]
  },
  {
   "cell_type": "markdown",
   "metadata": {},
   "source": [
    "# XML"
   ]
  },
  {
   "cell_type": "code",
   "execution_count": null,
   "metadata": {},
   "outputs": [],
   "source": [
    "#XML 1 - Find the Score\n",
    "def get_attr_number(node):\n",
    "    tot = len(node.attrib)\n",
    "    for i in node:\n",
    "        tot += get_attr_number(i)\n",
    "    return tot"
   ]
  },
  {
   "cell_type": "code",
   "execution_count": null,
   "metadata": {},
   "outputs": [],
   "source": [
    "#XML2 - Find the Maximum Depth\n",
    "maxdepth = 0\n",
    "def depth(elem, level):\n",
    "    global maxdepth\n",
    "    if len(elem) >= 1:\n",
    "        for i in elem:\n",
    "            depth(i, level + 1)\n",
    "    else:\n",
    "        maxdepth = max(maxdepth, level+1)"
   ]
  },
  {
   "cell_type": "markdown",
   "metadata": {},
   "source": [
    "# Closures and Decorations"
   ]
  },
  {
   "cell_type": "code",
   "execution_count": null,
   "metadata": {},
   "outputs": [],
   "source": [
    "#Standardize Mobile Number Using Decorators\n",
    "def wrapper(f):\n",
    "    def fun(l):\n",
    "        numbers = []\n",
    "        for i in l:\n",
    "            numbers.append(\"+91 \" + i[-10:-5] + \" \" + i[-5:])\n",
    "        f(numbers)\n",
    "    return fun"
   ]
  },
  {
   "cell_type": "code",
   "execution_count": null,
   "metadata": {},
   "outputs": [],
   "source": [
    "#Decorators 2 - Name Directory\n",
    "def person_lister(f):\n",
    "    def inner(people):\n",
    "        for p in range(len(people)):\n",
    "            people[p].append(p)\n",
    "            people[p][2] = int(people[p][2])\n",
    "        people.sort(key=operator.itemgetter(2, 4))\n",
    "        return [f(i) for i in people]\n",
    "    return inner"
   ]
  },
  {
   "cell_type": "markdown",
   "metadata": {},
   "source": [
    "# Numpy"
   ]
  },
  {
   "cell_type": "code",
   "execution_count": null,
   "metadata": {},
   "outputs": [],
   "source": [
    "#Arrays\n",
    "import numpy\n",
    "\n",
    "def arrays(arr):\n",
    "    # complete this function\n",
    "    # use numpy.array\n",
    "    arr = arr[::-1]\n",
    "    a = numpy.array(arr, float)\n",
    "    return a\n",
    "\n",
    "arr = input().strip().split(' ')\n",
    "result = arrays(arr)\n",
    "print(result)"
   ]
  },
  {
   "cell_type": "code",
   "execution_count": null,
   "metadata": {},
   "outputs": [],
   "source": [
    "#Shape and Reshape\n",
    "import numpy\n",
    "\n",
    "arr = numpy.array(list(map(int, input().split())))\n",
    "print(numpy.reshape(arr, (3, 3)))"
   ]
  },
  {
   "cell_type": "code",
   "execution_count": null,
   "metadata": {},
   "outputs": [],
   "source": [
    "#Transpose and Flatten\n",
    "import numpy\n",
    "\n",
    "N, M = input().split()\n",
    "l = []\n",
    "\n",
    "for i in range(int(N)):\n",
    "    line = list(map(int, input().split()))\n",
    "    l.append(line)\n",
    "\n",
    "arr = numpy.array(l)\n",
    "print(numpy.transpose(arr))\n",
    "arr = arr.flatten()\n",
    "print(arr)"
   ]
  },
  {
   "cell_type": "code",
   "execution_count": null,
   "metadata": {},
   "outputs": [],
   "source": [
    "#Concatenate\n",
    "import numpy\n",
    "\n",
    "N, M, P = input().split()\n",
    "\n",
    "n, m = [], []\n",
    "for i in range(int(N)):\n",
    "    n.append(list(map(int, input().split())))\n",
    "for i in range(int(M)):\n",
    "    m.append(list(map(int, input().split())))\n",
    "n, m = numpy.array(n), numpy.array(m)\n",
    "\n",
    "print(numpy.concatenate((n, m), axis=0))"
   ]
  },
  {
   "cell_type": "code",
   "execution_count": null,
   "metadata": {},
   "outputs": [],
   "source": [
    "#Zeros and Ones\n",
    "import numpy\n",
    "\n",
    "dims = tuple(map(int, input().split()))\n",
    "\n",
    "print(numpy.zeros(dims, dtype = int))\n",
    "print(numpy.ones(dims, dtype = int))"
   ]
  },
  {
   "cell_type": "code",
   "execution_count": null,
   "metadata": {},
   "outputs": [],
   "source": [
    "#Eye and Identity\n",
    "import numpy\n",
    "numpy.set_printoptions(legacy='1.13')\n",
    "\n",
    "N, M = input().split()\n",
    "\n",
    "print(numpy.eye(int(N), int(M)))"
   ]
  },
  {
   "cell_type": "code",
   "execution_count": null,
   "metadata": {},
   "outputs": [],
   "source": [
    "#Array Mathematics\n",
    "import numpy\n",
    "\n",
    "N, M = input().split()\n",
    "\n",
    "A = numpy.array([list(map(int, input().split())) for i in range(int(N))])\n",
    "B = numpy.array([list(map(int, input().split())) for i in range(int(N))])\n",
    "\n",
    "print(A+B)\n",
    "print(A-B)\n",
    "print(A * B)\n",
    "print(A // B)\n",
    "print(A % B)\n",
    "print(A ** B)"
   ]
  },
  {
   "cell_type": "code",
   "execution_count": null,
   "metadata": {},
   "outputs": [],
   "source": [
    "#Floor, Ceil and Rint\n",
    "import numpy\n",
    "numpy.set_printoptions(legacy='1.13')\n",
    "\n",
    "A = numpy.array(input().split(), float)\n",
    "print(numpy.floor(A))\n",
    "print(numpy.ceil(A))\n",
    "print(numpy.rint(A))"
   ]
  },
  {
   "cell_type": "code",
   "execution_count": null,
   "metadata": {},
   "outputs": [],
   "source": [
    "#Sum and Prod\n",
    "import numpy\n",
    "\n",
    "N, M = input().split()\n",
    "\n",
    "A = numpy.array([input().split() for _ in range(int(N))], int)\n",
    "s = numpy.sum(A, axis=0)\n",
    "print(numpy.prod(s))"
   ]
  },
  {
   "cell_type": "code",
   "execution_count": null,
   "metadata": {},
   "outputs": [],
   "source": [
    "#Min and Max\n",
    "import numpy\n",
    "\n",
    "n, m = input().split()\n",
    "\n",
    "A = numpy.array([input().split() for _ in range(int(n))], int)\n",
    "mi = numpy.min(A, axis=1)\n",
    "print(numpy.max(mi))"
   ]
  },
  {
   "cell_type": "code",
   "execution_count": null,
   "metadata": {},
   "outputs": [],
   "source": [
    "#Mean, Var, and Std\n",
    "import numpy\n",
    "\n",
    "n, m = input().split()\n",
    "\n",
    "A = numpy.array([input().split() for _ in range(int(n))], int)\n",
    "print(numpy.mean(A, axis=1))\n",
    "print(numpy.var(A, axis=0))\n",
    "print(round(numpy.std(A), 11))"
   ]
  },
  {
   "cell_type": "code",
   "execution_count": null,
   "metadata": {},
   "outputs": [],
   "source": [
    "#Dot and Cross\n",
    "import numpy\n",
    "\n",
    "n = input()\n",
    "\n",
    "A = numpy.array([input().split() for _ in range(int(n))], int)\n",
    "B = numpy.array([input().split() for _ in range(int(n))], int)\n",
    "\n",
    "print(numpy.dot(A, B))"
   ]
  },
  {
   "cell_type": "code",
   "execution_count": null,
   "metadata": {},
   "outputs": [],
   "source": [
    "#Inner and Outer\n",
    "import numpy\n",
    "\n",
    "A = numpy.array(input().split(), int)\n",
    "B = numpy.array(input().split(), int)\n",
    "\n",
    "print(numpy.inner(A, B))\n",
    "print(numpy.outer(A, B))"
   ]
  },
  {
   "cell_type": "code",
   "execution_count": null,
   "metadata": {},
   "outputs": [],
   "source": [
    "#Polynomials\n",
    "import numpy\n",
    "\n",
    "P = numpy.array(input().split(), float)\n",
    "x = int(input())\n",
    "\n",
    "print(numpy.polyval(P, x))"
   ]
  },
  {
   "cell_type": "code",
   "execution_count": null,
   "metadata": {},
   "outputs": [],
   "source": [
    "#Linear Algebra\n",
    "import numpy\n",
    "\n",
    "n = int(input())\n",
    "\n",
    "A = numpy.array([input().split() for _ in range(int(n))], float)\n",
    "print(round(numpy.linalg.det(A), 2))"
   ]
  }
 ],
 "metadata": {
  "kernelspec": {
   "display_name": "Python 3",
   "language": "python",
   "name": "python3"
  },
  "language_info": {
   "codemirror_mode": {
    "name": "ipython",
    "version": 3
   },
   "file_extension": ".py",
   "mimetype": "text/x-python",
   "name": "python",
   "nbconvert_exporter": "python",
   "pygments_lexer": "ipython3",
   "version": "3.11.4"
  },
  "orig_nbformat": 4
 },
 "nbformat": 4,
 "nbformat_minor": 2
}
